{
  "cells": [
    {
      "cell_type": "markdown",
      "metadata": {
        "id": "view-in-github",
        "colab_type": "text"
      },
      "source": [
        "<a href=\"https://colab.research.google.com/github/jenny12138/CNN_SinglePatient/blob/main/EEG_IED_Detector.ipynb\" target=\"_parent\"><img src=\"https://colab.research.google.com/assets/colab-badge.svg\" alt=\"Open In Colab\"/></a>"
      ]
    },
    {
      "cell_type": "markdown",
      "metadata": {
        "id": "Orh99_luJSpV"
      },
      "source": [
        "## Part 1: Set Up and Load All Data from Drive\n"
      ]
    },
    {
      "cell_type": "code",
      "execution_count": null,
      "metadata": {
        "id": "D8OGw_-0JN00"
      },
      "outputs": [],
      "source": [
        "## Import the necessary packages/modules/libraries\n",
        "\n",
        "import copy\n",
        "import scipy.io\n",
        "import numpy as np\n",
        "from matplotlib import pyplot as plt \n",
        "import tensorflow as tf\n",
        "from tensorflow.keras import datasets, layers, models\n",
        "from tensorflow.keras.optimizers import Adam\n",
        "from tensorflow.keras.callbacks import ModelCheckpoint, ReduceLROnPlateau, EarlyStopping\n",
        "from tensorflow.keras import metrics\n",
        "from tensorflow import keras\n",
        "from sklearn.utils import shuffle\n",
        "import collections\n",
        "from sklearn import preprocessing\n",
        "from sklearn.model_selection import train_test_split \n",
        "import pickle\n",
        "from sklearn.preprocessing import MinMaxScaler"
      ]
    },
    {
      "cell_type": "code",
      "execution_count": null,
      "metadata": {
        "id": "gwcPv2KuJjW5"
      },
      "outputs": [],
      "source": [
        "## Mount Google Drive to this notebook so that we can import the processed EEG data\n",
        "\n",
        "from google.colab import drive\n",
        "drive.mount('/content/drive')"
      ]
    },
    {
      "cell_type": "code",
      "execution_count": null,
      "metadata": {
        "id": "RpL0zRVoJs6E"
      },
      "outputs": [],
      "source": [
        "## Import positive data (epileptiform epochs) from MATLAB files\n",
        "\n",
        "# Import from run 3\n",
        "EST_run03_matlab = scipy.io.loadmat('/content/drive/MyDrive/Pt0090_Data_MEGCleaned/EST_03.mat')\n",
        "EST_run03_F = EST_run03_matlab['EST_03F']\n",
        "\n",
        "# Import from run 4\n",
        "EST_run04_matlab = scipy.io.loadmat('/content/drive/MyDrive/Pt0090_Data_MEGCleaned/EST_04.mat')\n",
        "EST_run04_F = EST_run04_matlab['EST_04F']\n",
        "\n",
        "# Import from run 5\n",
        "EST_run05_matlab = scipy.io.loadmat('/content/drive/MyDrive/Pt0090_Data_MEGCleaned/EST_05.mat')\n",
        "EST_run05_F = EST_run05_matlab['EST_05F']\n",
        "\n",
        "# Import from run 6\n",
        "EST_run06_matlab = scipy.io.loadmat('/content/drive/MyDrive/Pt0090_Data_MEGCleaned/EST_06.mat')\n",
        "EST_run06_F = EST_run06_matlab['EST_06F']"
      ]
    },
    {
      "cell_type": "code",
      "execution_count": null,
      "metadata": {
        "id": "MeHhVvf6J5GQ"
      },
      "outputs": [],
      "source": [
        "## Import negative data (non-epileptiform epochs) from MATLAB files\n",
        "\n",
        "# Import from run 3\n",
        "negative_run03_matlab = scipy.io.loadmat('/content/drive/MyDrive/Pt0090_Data_MEGCleaned/NEG_03.mat')\n",
        "negative_run03_F = negative_run03_matlab['NEG_03F']\n",
        "\n",
        "# Import from run 4\n",
        "negative_run04_matlab = scipy.io.loadmat('/content/drive/MyDrive/Pt0090_Data_MEGCleaned/NEG_04.mat')\n",
        "negative_run04_F = negative_run04_matlab['NEG_04F']\n",
        "\n",
        "# Import from run 5\n",
        "negative_run05_matlab = scipy.io.loadmat('/content/drive/MyDrive/Pt0090_Data_MEGCleaned/NEG_05.mat')\n",
        "negative_run05_F = negative_run05_matlab['NEG_05F']\n",
        "\n",
        "# Import from run 6\n",
        "negative_run06_matlab = scipy.io.loadmat('/content/drive/MyDrive/Pt0090_Data_MEGCleaned/NEG_06.mat')\n",
        "negative_run06_F = negative_run06_matlab['NEG_06F']"
      ]
    },
    {
      "cell_type": "code",
      "execution_count": null,
      "metadata": {
        "id": "RrvOsGvgJ7FV"
      },
      "outputs": [],
      "source": [
        "## Make copies of the loaded data\n",
        "\n",
        "# Run 3 \n",
        "EST_run03_raw_data = copy.deepcopy(EST_run03_F)\n",
        "negative_run03_raw_data = copy.deepcopy(negative_run03_F)\n",
        "print(type(EST_run03_raw_data))\n",
        "print(type(negative_run03_raw_data))\n",
        "\n",
        "# Run 4\n",
        "EST_run04_raw_data = copy.deepcopy(EST_run04_F)\n",
        "negative_run04_raw_data = copy.deepcopy(negative_run04_F)\n",
        "print(type(EST_run04_raw_data))\n",
        "print(type(negative_run04_raw_data))\n",
        "\n",
        "# Run 5 \n",
        "EST_run05_raw_data = copy.deepcopy(EST_run05_F)\n",
        "negative_run05_raw_data = copy.deepcopy(negative_run05_F)\n",
        "print(type(EST_run05_raw_data))\n",
        "print(type(negative_run05_raw_data))\n",
        "\n",
        "# Run 6\n",
        "EST_run06_raw_data = copy.deepcopy(EST_run06_F)\n",
        "negative_run06_raw_data = copy.deepcopy(negative_run06_F)\n",
        "print(type(EST_run06_raw_data))\n",
        "print(type(negative_run06_raw_data))"
      ]
    },
    {
      "cell_type": "markdown",
      "metadata": {
        "id": "Nz4Bjw1VJ9j7"
      },
      "source": [
        "## Part 2: Processing the Data for Neural Network"
      ]
    },
    {
      "cell_type": "code",
      "execution_count": null,
      "metadata": {
        "id": "e3wF-6qNJ-Bn"
      },
      "outputs": [],
      "source": [
        "## We need to transpose raw_data. Currently, the shape of raw_data is [nChannels, nSamples]. In order to use the epoching function \n",
        "## (taken from Raymundo Cassani at https://github.com/MuSAELab/amplitude-modulation-analysis-module/blob/master/am_analysis/am_analysis.py),\n",
        "## we need to transpose raw_data such that its shape becomes [nSamples, nChannels]\n",
        "\n",
        "# Run 3\n",
        "EST_run03_raw_data_transposed = np.transpose(EST_run03_raw_data)\n",
        "print(EST_run03_raw_data_transposed.shape) #(154368, 394)\n",
        "negative_run03_raw_data_transposed = np.transpose(negative_run03_raw_data)\n",
        "print(negative_run03_raw_data_transposed.shape) #(238336, 394)\n",
        "\n",
        "# Run 4\n",
        "EST_run04_raw_data_transposed = np.transpose(EST_run04_raw_data)\n",
        "print(EST_run04_raw_data_transposed.shape) #(60416, 394)\n",
        "negative_run04_raw_data_transposed = np.transpose(negative_run04_raw_data)\n",
        "print(negative_run04_raw_data_transposed.shape) #(57344, 394)\n",
        "\n",
        "# Run 5\n",
        "EST_run05_raw_data_transposed = np.transpose(EST_run05_raw_data)\n",
        "print(EST_run05_raw_data_transposed.shape) #(61952, 394)\n",
        "negative_run05_raw_data_transposed = np.transpose(negative_run05_raw_data)\n",
        "print(negative_run05_raw_data_transposed.shape) #(39936, 394)\n",
        "\n",
        "# Run 6\n",
        "EST_run06_raw_data_transposed = np.transpose(EST_run06_raw_data)\n",
        "print(EST_run06_raw_data_transposed.shape) #(156416, 394)\n",
        "negative_run06_raw_data_transposed = np.transpose(negative_run06_raw_data)\n",
        "print(negative_run06_raw_data_transposed.shape) #(122368, 394)"
      ]
    },
    {
      "cell_type": "code",
      "execution_count": null,
      "metadata": {
        "id": "kpwcHCw-KAQk"
      },
      "outputs": [],
      "source": [
        "## By Raymundo Cassani, used with permission from: https://github.com/MuSAELab/amplitude-modulation-analysis-module/blob/master/am_analysis/am_analysis.py\n",
        "\n",
        "def epoching(data, samples_epoch, samples_overlap = 0):\n",
        "    \"\"\"Divide an array in a colletion of smaller arrays\n",
        "    \n",
        "    Divides the `data` provided as [n_samples, n_channels] using the \n",
        "    `size_epoch` indicated (in samples) and the `overlap_epoch` between \n",
        "    consecutive epochs.\n",
        "   \n",
        "    Parameters\n",
        "    ----------\n",
        "    data : 2D array \n",
        "        with shape (n_samples, n_channels)\n",
        "    samples_epochs : \n",
        "        number of samples in smaller epochs\n",
        "        \n",
        "    samples_overlap : \n",
        "        number of samples for ovelap between epochs (Default 0)\n",
        "    Returns\n",
        "    -------\n",
        "    epochs : 3D array \n",
        "        with shape (samples_epoch, n_channels, n_epochs)\n",
        "    \n",
        "    remainder : 2D array \n",
        "        with the remaining data after last complete epoch\n",
        "    \n",
        "    ix_center : 1D array\n",
        "        indicates the index tha corresponds to the center of the nth epoch.\n",
        "    \"\"\" \n",
        "    # input 'data' as 2D matrix [samples, columns]\n",
        "    try:\n",
        "        data.shape[1]\n",
        "    except IndexError:\n",
        "        data = data[:, np.newaxis]\n",
        "    \n",
        "    # number of samples and number of channels\n",
        "    n_samples, n_channels = data.shape\n",
        "\n",
        "    # Size of half epoch\n",
        "    half_epoch = np.ceil(samples_epoch / 2 )\n",
        "\n",
        "    # Epoch shift   \n",
        "    samples_shift = samples_epoch - samples_overlap\n",
        "\n",
        "    # Number of epochs\n",
        "    n_epochs =  int(np.floor( (n_samples - samples_epoch) / float(samples_shift) ) + 1 )\n",
        "    if n_epochs == 0:\n",
        "        return np.array([]), data, np.array([])\n",
        "\n",
        "    #markers indicates where the epoch starts, and the epoch contains samples_epoch rows\n",
        "    markers = np.asarray(range(0,n_epochs)) * samples_shift\n",
        "    markers = markers.astype(int)\n",
        "\n",
        "    #Divide data in epochs\n",
        "    epochs = np.zeros((samples_epoch, n_channels, n_epochs))\n",
        "    ix_center = np.zeros((n_epochs,1))\n",
        "\n",
        "    for i_epoch in range(0,n_epochs):\n",
        "        epochs[:,:,i_epoch] = data[ markers[i_epoch] : markers[i_epoch] + samples_epoch ,:]\n",
        "        ix_center[i_epoch] = markers[i_epoch] -1 + half_epoch\n",
        "        \n",
        "    if ( (markers[-1] + samples_epoch) < n_samples): \n",
        "        remainder = data[markers[-1] + samples_epoch : n_samples, :]\n",
        "    else:\n",
        "        remainder = np.asarray([])\n",
        "    \n",
        "    return epochs, remainder, ix_center.astype(int)"
      ]
    },
    {
      "cell_type": "code",
      "execution_count": null,
      "metadata": {
        "id": "yxHIGnvDKA-9"
      },
      "outputs": [],
      "source": [
        "## Now, we need to epoch the positive examples. We will use the epoching function by Raymundo (from \n",
        "## https://github.com/MuSAELab/amplitude-modulation-analysis-module/blob/master/am_analysis/am_analysis.py), taken with permission\n",
        "\n",
        "## epochs_EST_run0# is a numpy ndarray with shape [number of samples, number of channels, number of 1-second epochs]\n",
        "## Note that the number of samples should be 256 since the data in Brainstorm has been downsampled to 256 Hz\n",
        "\n",
        "# Run 3\n",
        "EST_run03_epoched = epoching(EST_run03_raw_data_transposed, 256, 0)\n",
        "epochs_EST_run03 = EST_run03_epoched[0]\n",
        "print(epochs_EST_run03.shape) #(256, 394, 603) \n",
        "negative_run03_epoched = epoching(negative_run03_raw_data_transposed, 256, 0)\n",
        "epochs_negative_run03 = negative_run03_epoched[0]\n",
        "print(epochs_negative_run03.shape) #(256, 394, 931) \n",
        "\n",
        "# Run 4\n",
        "EST_run04_epoched = epoching(EST_run04_raw_data_transposed, 256, 0)\n",
        "epochs_EST_run04 = EST_run04_epoched[0]\n",
        "print(epochs_EST_run04.shape) #(256, 394, 236)\n",
        "negative_run04_epoched = epoching(negative_run04_raw_data_transposed, 256, 0)\n",
        "epochs_negative_run04 = negative_run04_epoched[0]\n",
        "print(epochs_negative_run04.shape) #(256, 394, 224) \n",
        "\n",
        "# Run 5\n",
        "EST_run05_epoched = epoching(EST_run05_raw_data_transposed, 256, 0)\n",
        "epochs_EST_run05 = EST_run05_epoched[0]\n",
        "print(epochs_EST_run05.shape) #(256, 394, 242) \n",
        "negative_run05_epoched = epoching(negative_run05_raw_data_transposed, 256, 0)\n",
        "epochs_negative_run05 = negative_run05_epoched[0]\n",
        "print(epochs_negative_run05.shape) #(256, 394, 156) \n",
        "\n",
        "# Run 6\n",
        "EST_run06_epoched = epoching(EST_run06_raw_data_transposed, 256, 0)\n",
        "epochs_EST_run06 = EST_run06_epoched[0]\n",
        "print(epochs_EST_run06.shape) #(256, 394, 611) \n",
        "negative_run06_epoched = epoching(negative_run06_raw_data_transposed, 256, 0)\n",
        "epochs_negative_run06 = negative_run06_epoched[0]\n",
        "print(epochs_negative_run06.shape) #(256, 394, 478)"
      ]
    },
    {
      "cell_type": "markdown",
      "metadata": {
        "id": "LmGV8EeIKHdz"
      },
      "source": [
        "## Part 3: EEG Processing & Modelling"
      ]
    },
    {
      "cell_type": "code",
      "execution_count": null,
      "metadata": {
        "id": "H5gkhpDnKH0L"
      },
      "outputs": [],
      "source": [
        "## Now, we don't actually need 394 channels. We only want the EEG ones.\n",
        "## From the channel editor in Brainstorm, we find that channels (1-indexed) 302-357 (56 channels) are EEG channels. So, we need to subset \n",
        "## epochs_EST_run0*. The new shape should be [number of samples, number of channels, number of epochs] where number of samples and\n",
        "## number of epochs stays the same, while number of channels decreases to 56\n",
        "\n",
        "#The E in Eepochs stands for EEG\n",
        "\n",
        "# Run 3\n",
        "Eepochs_EST_run03 = epochs_EST_run03[:,301:357,:]\n",
        "print(\"Eepochs_EST_run03.shape:\", Eepochs_EST_run03.shape) #(256, 56, 603)\n",
        "Eepochs_negative_run03 = epochs_negative_run03[:,301:357,:]\n",
        "print(\"Eepochs_negative_run03.shape:\", Eepochs_negative_run03.shape) #(256, 56, 931)\n",
        "\n",
        "# Run 4\n",
        "Eepochs_EST_run04 = epochs_EST_run04[:,301:357,:]\n",
        "print(\"Eepochs_EST_run04.shape:\", Eepochs_EST_run04.shape) #(256, 56, 236)\n",
        "Eepochs_negative_run04 = epochs_negative_run04[:,301:357,:]\n",
        "print(\"Eepochs_negative_run04.shape:\", Eepochs_negative_run04.shape) #(256, 56, 224)\n",
        "\n",
        "# Run 5\n",
        "Eepochs_EST_run05 = epochs_EST_run05[:,301:357,:]\n",
        "print(\"Eepochs_EST_run05.shape:\", Eepochs_EST_run05.shape) #(256, 56, 242)\n",
        "Eepochs_negative_run05 = epochs_negative_run05[:,301:357,:]\n",
        "print(\"Eepochs_negative_run05.shape:\", Eepochs_negative_run05.shape) #(256, 56, 156)\n",
        "\n",
        "# Run 6\n",
        "Eepochs_EST_run06 = epochs_EST_run06[:,301:357,:]\n",
        "print(\"Eepochs_EST_run06.shape:\", Eepochs_EST_run06.shape) #(256, 56, 611)\n",
        "Eepochs_negative_run06 = epochs_negative_run06[:,301:357,:]\n",
        "print(\"Eepochs_negative_run06.shape:\", Eepochs_negative_run06.shape) #(256, 56, 478)"
      ]
    },
    {
      "cell_type": "code",
      "execution_count": null,
      "metadata": {
        "id": "-_Q4B7OWKJ0B"
      },
      "outputs": [],
      "source": [
        "#Transpose to be (number of 1-second epochs, number of samples, number of channels)\n",
        "\n",
        "EEG_EST_run03 = Eepochs_EST_run03.transpose(2, 0, 1) \n",
        "EEG_EST_run04 = Eepochs_EST_run04.transpose(2, 0, 1)\n",
        "EEG_EST_run05 = Eepochs_EST_run05.transpose(2, 0, 1)\n",
        "EEG_EST_run06 = Eepochs_EST_run06.transpose(2, 0, 1)\n",
        "print(EEG_EST_run03.shape) #(603, 256, 56)\n",
        "print(EEG_EST_run04.shape) #(236, 256, 56)\n",
        "print(EEG_EST_run05.shape) #(242, 256, 56)\n",
        "print(EEG_EST_run06.shape) #(611, 256, 56)\n",
        "\n",
        "EEG_negative_run03 = Eepochs_negative_run03.transpose(2,0,1)\n",
        "EEG_negative_run04 = Eepochs_negative_run04.transpose(2,0,1)\n",
        "EEG_negative_run05 = Eepochs_negative_run05.transpose(2,0,1)\n",
        "EEG_negative_run06 = Eepochs_negative_run06.transpose(2,0,1)\n",
        "print(EEG_negative_run03.shape) #(931, 256, 56)\n",
        "print(EEG_negative_run04.shape) #(224, 256, 56)\n",
        "print(EEG_negative_run05.shape) #(156, 256, 56)\n",
        "print(EEG_negative_run06.shape) #(478, 256, 56)"
      ]
    },
    {
      "cell_type": "code",
      "execution_count": null,
      "metadata": {
        "id": "1OI0nSCnr3FT"
      },
      "outputs": [],
      "source": [
        "## During preprocessing in Brainstorm, we identified the following channels to be bad channels. So, we need to remove them from the data structures above.\n",
        "## FC1 320-302=18\n",
        "\n",
        "EEG_EST_run03= np.delete(EEG_EST_run03, 18, axis=2)\n",
        "print(EEG_EST_run03.shape) #(603, 256, 55)\n",
        "EEG_EST_run04= np.delete(EEG_EST_run04, 18, axis=2)\n",
        "print(EEG_EST_run04.shape) #(236, 256, 55)\n",
        "EEG_EST_run05= np.delete(EEG_EST_run05, 18, axis=2)\n",
        "print(EEG_EST_run05.shape) #(242, 256, 55)\n",
        "EEG_EST_run06= np.delete(EEG_EST_run06, 18, axis=2)\n",
        "print(EEG_EST_run06.shape) #(611, 256, 55)\n",
        "\n",
        "EEG_negative_run03 = np.delete(EEG_negative_run03, 18, axis=2)\n",
        "print(EEG_negative_run03.shape) #(931, 256, 55)\n",
        "EEG_negative_run04 = np.delete(EEG_negative_run04, 18, axis=2)\n",
        "print(EEG_negative_run04.shape) #(224, 256, 55)\n",
        "EEG_negative_run05 = np.delete(EEG_negative_run05, 18, axis=2)\n",
        "print(EEG_negative_run05.shape) #(156, 256, 55)\n",
        "EEG_negative_run06 = np.delete(EEG_negative_run06, 18, axis=2)\n",
        "print(EEG_negative_run06.shape) #(478, 256, 55)\n"
      ]
    },
    {
      "cell_type": "markdown",
      "metadata": {
        "id": "H7DJqen6j9tb"
      },
      "source": [
        "#### Visualization of Averages:\n",
        "\n"
      ]
    },
    {
      "cell_type": "code",
      "execution_count": null,
      "metadata": {
        "id": "ILbDNYRGkApc"
      },
      "outputs": [],
      "source": [
        "# Create a function to display the EEG time series data.\n",
        "\n",
        "def show_time_series(data, xlabel, ylabel):\n",
        "  cur = data \n",
        "  plt.plot(cur)\n",
        "  plt.gca().invert_yaxis() #Invert to match the default reversed y-axis view in Brainstorm.\n",
        "  plt.xlabel(xlabel)\n",
        "  plt.ylabel(ylabel)\n",
        "  plt.show()"
      ]
    },
    {
      "cell_type": "markdown",
      "metadata": {
        "id": "q9XwzWejmTtN"
      },
      "source": [
        "##### Look at the average of positive samples:\n",
        "\n",
        "\n",
        "\n",
        "\n"
      ]
    },
    {
      "cell_type": "code",
      "execution_count": null,
      "metadata": {
        "id": "cFb8NRI2kTpW"
      },
      "outputs": [],
      "source": [
        "# We want to average across the first axis\n",
        "\n",
        "average_EEG_EST_run03 = np.mean(EEG_EST_run03, axis=0)\n",
        "show_time_series(average_EEG_EST_run03, \"Sample number\", \"Volts\")"
      ]
    },
    {
      "cell_type": "code",
      "execution_count": null,
      "metadata": {
        "id": "cUavpbcZZsqw"
      },
      "outputs": [],
      "source": [
        "# We want to average across the first axis\n",
        "\n",
        "average_EEG_EST_run04 = np.mean(EEG_EST_run04, axis=0)\n",
        "show_time_series(average_EEG_EST_run04, \"Sample number\", \"Volts\")"
      ]
    },
    {
      "cell_type": "code",
      "execution_count": null,
      "metadata": {
        "id": "yQfewracV7jN"
      },
      "outputs": [],
      "source": [
        "# We want to average across the first axis\n",
        "\n",
        "average_EEG_EST_run05 = np.mean(EEG_EST_run05, axis=0)\n",
        "show_time_series(average_EEG_EST_run05, \"Sample number\", \"Volts\")"
      ]
    },
    {
      "cell_type": "code",
      "execution_count": null,
      "metadata": {
        "id": "JKFtwO8FZ0bl"
      },
      "outputs": [],
      "source": [
        "# We want to average across the first axis\n",
        "\n",
        "average_EEG_EST_run06 = np.mean(EEG_EST_run06, axis=0)\n",
        "show_time_series(average_EEG_EST_run06, \"Sample number\", \"Volts\")"
      ]
    },
    {
      "cell_type": "code",
      "execution_count": null,
      "metadata": {
        "id": "UwsAMYyZWNQW"
      },
      "outputs": [],
      "source": [
        "average_EEG_negative_run03 = np.mean(EEG_negative_run03, axis=0)\n",
        "show_time_series(average_EEG_negative_run03, \"Sample number\", \"Volts\")"
      ]
    },
    {
      "cell_type": "code",
      "execution_count": null,
      "metadata": {
        "id": "WpSIFFglaO4Y"
      },
      "outputs": [],
      "source": [
        "average_EEG_negative_run04 = np.mean(EEG_negative_run04, axis=0)\n",
        "show_time_series(average_EEG_negative_run04, \"Sample number\", \"Volts\")"
      ]
    },
    {
      "cell_type": "code",
      "execution_count": null,
      "metadata": {
        "id": "2-g8PFWfaeXO"
      },
      "outputs": [],
      "source": [
        "average_EEG_negative_run05 = np.mean(EEG_negative_run05, axis=0)\n",
        "show_time_series(average_EEG_negative_run05, \"Sample number\", \"Volts\")"
      ]
    },
    {
      "cell_type": "code",
      "execution_count": null,
      "metadata": {
        "id": "bQKZ-YRwah8l"
      },
      "outputs": [],
      "source": [
        "average_EEG_negative_run06 = np.mean(EEG_negative_run06, axis=0)\n",
        "show_time_series(average_EEG_negative_run06, \"Sample number\", \"Volts\")"
      ]
    },
    {
      "cell_type": "code",
      "execution_count": null,
      "metadata": {
        "id": "qtXkqGTFkT9X"
      },
      "outputs": [],
      "source": [
        "## Now, scale the data:\n",
        "\n",
        "def scale_data(data):\n",
        "  counter = 0\n",
        "  return_copy = copy.deepcopy(data)\n",
        "  for item in data:\n",
        "    one_column = np.reshape(item, (-1, 1))\n",
        "    scaler = MinMaxScaler()\n",
        "    scaler.fit(one_column)\n",
        "    one_column = scaler.transform(one_column)\n",
        "    transformed = np.reshape(one_column, (data.shape[1], data.shape[2]))\n",
        "    return_copy[counter] = transformed\n",
        "    counter=counter+1\n",
        "  \n",
        "  return return_copy\n",
        "\n",
        "EEG_EST_run03_scaled = scale_data(EEG_EST_run03)\n",
        "EEG_EST_run04_scaled = scale_data(EEG_EST_run04)\n",
        "EEG_EST_run05_scaled = scale_data(EEG_EST_run05)\n",
        "EEG_EST_run06_scaled = scale_data(EEG_EST_run06)\n",
        "\n",
        "EEG_negative_run03_scaled = scale_data(EEG_negative_run03)\n",
        "EEG_negative_run04_scaled = scale_data(EEG_negative_run04)\n",
        "EEG_negative_run05_scaled = scale_data(EEG_negative_run05)\n",
        "EEG_negative_run06_scaled = scale_data(EEG_negative_run06)\n"
      ]
    },
    {
      "cell_type": "code",
      "execution_count": null,
      "metadata": {
        "id": "vBS9kE5m0S9L"
      },
      "outputs": [],
      "source": [
        "# Find the average of the scaled data\n",
        "\n",
        "average_EEG_EST_run03_scaled = np.mean(EEG_EST_run03_scaled, axis=0)\n",
        "show_time_series(average_EEG_EST_run03_scaled, \"Sample number\", \"Amplitude\")"
      ]
    },
    {
      "cell_type": "code",
      "execution_count": null,
      "metadata": {
        "id": "seexR1jXq0uM"
      },
      "outputs": [],
      "source": [
        "# Find the average of the scaled data\n",
        "\n",
        "average_EEG_EST_run04_scaled = np.mean(EEG_EST_run04_scaled, axis=0)\n",
        "show_time_series(average_EEG_EST_run04_scaled, \"Sample number\", \"Amplitude\")"
      ]
    },
    {
      "cell_type": "code",
      "execution_count": null,
      "metadata": {
        "id": "Udhrr78iq3VJ"
      },
      "outputs": [],
      "source": [
        "# Find the average of the scaled data\n",
        "\n",
        "average_EEG_EST_run05_scaled = np.mean(EEG_EST_run05_scaled, axis=0)\n",
        "show_time_series(average_EEG_EST_run05_scaled, \"Sample number\", \"Amplitude\")"
      ]
    },
    {
      "cell_type": "code",
      "execution_count": null,
      "metadata": {
        "id": "coJYDUI0q6C2"
      },
      "outputs": [],
      "source": [
        "# Find the average of the scaled data\n",
        "\n",
        "average_EEG_EST_run06_scaled = np.mean(EEG_EST_run06_scaled, axis=0)\n",
        "show_time_series(average_EEG_EST_run06_scaled, \"Sample number\", \"Amplitude\")"
      ]
    },
    {
      "cell_type": "code",
      "execution_count": null,
      "metadata": {
        "id": "pC5ZG14FHn9E"
      },
      "outputs": [],
      "source": [
        "# Find the average of the scaled data\n",
        "\n",
        "average_EEG_negative_run03_scaled = np.mean(EEG_negative_run03_scaled, axis=0)\n",
        "show_time_series(average_EEG_negative_run03_scaled, \"Sample number\", \"Amplitude\")"
      ]
    },
    {
      "cell_type": "code",
      "execution_count": null,
      "metadata": {
        "id": "JPyYNWpjXXar"
      },
      "outputs": [],
      "source": [
        "# Find the average of the scaled data\n",
        "\n",
        "average_EEG_negative_run04_scaled = np.mean(EEG_negative_run04_scaled, axis=0)\n",
        "show_time_series(average_EEG_negative_run04_scaled, \"Sample number\", \"Amplitude\")"
      ]
    },
    {
      "cell_type": "code",
      "execution_count": null,
      "metadata": {
        "id": "WBpuHLh8rARk"
      },
      "outputs": [],
      "source": [
        "# Find the average of the scaled data\n",
        "\n",
        "average_EEG_negative_run05_scaled = np.mean(EEG_negative_run05_scaled, axis=0)\n",
        "show_time_series(average_EEG_negative_run05_scaled, \"Sample number\", \"Amplitude\")"
      ]
    },
    {
      "cell_type": "code",
      "execution_count": null,
      "metadata": {
        "id": "aS3r1PqTrDOF"
      },
      "outputs": [],
      "source": [
        "# Find the average of the scaled data\n",
        "\n",
        "average_EEG_negative_run06_scaled = np.mean(EEG_negative_run06_scaled, axis=0)\n",
        "show_time_series(average_EEG_negative_run06_scaled, \"Sample number\", \"Amplitude\")"
      ]
    },
    {
      "cell_type": "markdown",
      "metadata": {
        "id": "39I3v0uoLLV9"
      },
      "source": [
        "Again, we can see that there is a difference between the IED and the non-IED samples! Now, we can move on to training the CNN with our data."
      ]
    },
    {
      "cell_type": "markdown",
      "metadata": {
        "id": "_i4aBuYfxgjw"
      },
      "source": [
        "## Part 4: Hyperparameter Grid Search with Cross Validation"
      ]
    },
    {
      "cell_type": "code",
      "execution_count": null,
      "metadata": {
        "id": "ai7G7136KLhq"
      },
      "outputs": [],
      "source": [
        "#Create training and validation data\n",
        "\n",
        "EEG_pos = np.concatenate((EEG_EST_run03_scaled, EEG_EST_run04_scaled, EEG_EST_run05_scaled, EEG_EST_run06_scaled))\n",
        "EEG_neg = np.concatenate((EEG_negative_run03_scaled, EEG_negative_run04_scaled, EEG_negative_run05_scaled, EEG_negative_run06_scaled))\n",
        "EEG_all_X = np.concatenate((EEG_pos, EEG_neg))\n",
        "print(EEG_all_X.shape) #(3481, 256, 267)\n",
        "\n",
        "EEG_y_1s = np.ones(EEG_pos.shape[0]).astype(int)\n",
        "EEG_y_0s = np.zeros(EEG_neg.shape[0]).astype(int)\n",
        "EEG_all_y = np.concatenate((EEG_y_1s, EEG_y_0s))\n",
        "print(EEG_all_y.shape) #(3481, )"
      ]
    },
    {
      "cell_type": "code",
      "execution_count": null,
      "metadata": {
        "id": "LAQme6rULCuJ"
      },
      "outputs": [],
      "source": [
        "# Use the train_test_split function to easily shuffle the data and obtain the training set.\n",
        "\n",
        "EEG_X_grid_train,EEG_X_grid_val,EEG_y_grid_train,EEG_y_grid_val = train_test_split(EEG_all_X,EEG_all_y, test_size=0.01)\n",
        "print(EEG_X_grid_train.shape)\n",
        "print(EEG_y_grid_train.shape)"
      ]
    },
    {
      "cell_type": "code",
      "execution_count": null,
      "metadata": {
        "id": "D9-R1YYoL1vv"
      },
      "outputs": [],
      "source": [
        "# Print a few y's to make sure that the data is indeed shuffled:\n",
        "\n",
        "print(EEG_y_grid_train[0:20])"
      ]
    },
    {
      "cell_type": "code",
      "execution_count": null,
      "metadata": {
        "id": "EezjAn_GJzfD"
      },
      "outputs": [],
      "source": [
        "try:\n",
        "  from scikeras.wrappers import KerasClassifier\n",
        "except:\n",
        "  !pip install scikeras\n",
        "  from scikeras.wrappers import KerasClassifier\n",
        "from sklearn.model_selection import GridSearchCV"
      ]
    },
    {
      "cell_type": "code",
      "execution_count": null,
      "metadata": {
        "id": "MkK5F9I0J5ih"
      },
      "outputs": [],
      "source": [
        "def get_clf(dropout, filters, fullyneurons):\n",
        "  # create model\n",
        "  model = tf.keras.Sequential() #Create a sequential model\n",
        "\n",
        "  #Convolutional layer #1\n",
        "  #Padding set to same to preserve the spatial dimensions of the volume such that the output volume size matches the input volume size\n",
        "  model.add(layers.Conv2D(filters, (3, 3), padding=\"same\", input_shape=(256, 55, 1))) \n",
        "  model.add(layers.BatchNormalization())\n",
        "  model.add(layers.Activation(\"relu\"))\n",
        "  model.add(layers.MaxPool2D(pool_size=(2,2)))\n",
        "  model.add(layers.Dropout(dropout)) \n",
        "\n",
        "  #Convolutional layer #2\n",
        "  model.add(layers.Conv2D(filters*2, (3, 3), padding=\"same\")) \n",
        "  model.add(layers.BatchNormalization())\n",
        "  model.add(layers.Activation(\"relu\"))\n",
        "  model.add(layers.MaxPool2D(pool_size=(2,2))) \n",
        "  model.add(layers.Dropout(dropout))\n",
        "\n",
        "  #Convolutional layer #3\n",
        "  model.add(layers.Conv2D(filters*3, (3, 3), padding=\"same\")) \n",
        "  model.add(layers.BatchNormalization())\n",
        "  model.add(layers.Activation(\"relu\"))\n",
        "  model.add(layers.MaxPool2D(pool_size=(2,2))) \n",
        "  model.add(layers.Dropout(dropout)) \n",
        "\n",
        "  #Flatten the volume to pass through fully connected layer\n",
        "  model.add(layers.Flatten())\n",
        "\n",
        "  #Fully connected layer #1\n",
        "  model.add(layers.Dense(fullyneurons))\n",
        "  model.add(layers.BatchNormalization())\n",
        "  model.add(layers.Activation(\"relu\"))\n",
        "  model.add(layers.Dropout(dropout))\n",
        "\n",
        "  #Classification result\n",
        "  model.add(layers.Dense(1, activation=\"sigmoid\")) #2 possible output: epileptiform, or non-epileptiform. \n",
        "  return model"
      ]
    },
    {
      "cell_type": "code",
      "execution_count": null,
      "metadata": {
        "id": "QlgSwKAJKVeT"
      },
      "outputs": [],
      "source": [
        "reduce_lr = ReduceLROnPlateau(monitor=\"loss\", factor=0.1, patience=2, min_lr=0.00001, model=\"auto\") #learning rate scheduling, decreases learning rate by 0.1 if doesn't get better for 2 epochs\n",
        "\n",
        "early_stop = EarlyStopping(monitor='val_loss', mode='min', verbose=1, patience=10) #stop training once val loss stops decreasing for 10 passes\n",
        "\n",
        "cb = [reduce_lr, early_stop]\n",
        "\n",
        "clf = KerasClassifier(\n",
        "    model=get_clf,\n",
        "    loss=\"binary_crossentropy\",\n",
        "    optimizer=Adam(learning_rate=0.01, beta_1=0.9, beta_2=0.999, epsilon=1e-08),\n",
        "    model__dropout=0.2,\n",
        "    model__filters = 8, \n",
        "    model__fullyneurons = 50,\n",
        "    fit__validation_split=0.2,\n",
        "    verbose=False,\n",
        "    epochs=100, #maximum 100 passes\n",
        "    callbacks=cb,\n",
        "    metrics=[\"accuracy\", tf.keras.metrics.AUC(curve=\"ROC\", from_logits=True), tf.keras.metrics.AUC(curve=\"PR\", from_logits=True), tf.keras.metrics.Precision(), tf.keras.metrics.Recall()]\n",
        ")"
      ]
    },
    {
      "cell_type": "code",
      "execution_count": null,
      "metadata": {
        "id": "IAMiTU1zK0kJ"
      },
      "outputs": [],
      "source": [
        "import sklearn.metrics\n",
        "\n",
        "scoring_metrics = ['accuracy','roc_auc']\n",
        "\n",
        "params = {\n",
        "    'model__dropout': [0.2, 0.4],\n",
        "    'model__filters': [8, 16, 32],\n",
        "    'model__fullyneurons': [50, 100, 500],\n",
        "}\n",
        "\n",
        "gs = GridSearchCV(clf, params, scoring=scoring_metrics, refit='accuracy', n_jobs=1, verbose=3, cv=3)\n",
        "\n",
        "gs.fit(EEG_X_grid_train, EEG_y_grid_train)\n",
        "\n",
        "print(gs.best_score_, gs.best_params_)"
      ]
    },
    {
      "cell_type": "code",
      "execution_count": null,
      "metadata": {
        "id": "t_NXSjqBMLGf"
      },
      "outputs": [],
      "source": [
        "import pandas as pd\n",
        "\n",
        "gs_dict = gs.cv_results_\n",
        "del gs_dict['mean_fit_time']\n",
        "del gs_dict['std_fit_time']\n",
        "del gs_dict['mean_score_time']\n",
        "del gs_dict['std_score_time']\n",
        "del gs_dict['params']\n",
        "gs_df = pd.DataFrame.from_dict(gs_dict)\n",
        "gs_df.to_csv(\"/content/drive/MyDrive/Final_IED_Data/eeg_gs_df_edited.csv\") "
      ]
    },
    {
      "cell_type": "markdown",
      "metadata": {
        "id": "867Vs-2LJqQ8"
      },
      "source": [
        "## Part 5: Training and Testing Model Using Optimal Hyperparameters"
      ]
    },
    {
      "cell_type": "code",
      "execution_count": null,
      "metadata": {
        "id": "myCIG9WIKMyZ"
      },
      "outputs": [],
      "source": [
        "# Create Training, Validation, and Test Sets from all of our available data\n",
        "# Use 70/15/15 split since dataset is relatively small\n",
        "\n",
        "EEG_X_train,EEG_X_val_test,EEG_y_train,EEG_y_val_test = train_test_split(EEG_all_X,EEG_all_y, test_size=0.3)\n",
        "EEG_X_val,EEG_X_test,EEG_y_val,EEG_y_test = train_test_split(EEG_X_val_test,EEG_y_val_test, test_size=0.5)\n",
        "\n",
        "print(EEG_X_train.shape)\n",
        "print(EEG_y_train.shape)\n",
        "print(EEG_X_val.shape)\n",
        "print(EEG_y_val.shape)\n",
        "print(EEG_X_test.shape)\n",
        "print(EEG_y_test.shape)\n",
        "\n",
        "# Print a few y's to make sure that the data is indeed shuffled:\n",
        "\n",
        "print(EEG_y_test[0:10])\n",
        "print(EEG_y_val[0:10])\n",
        "print(EEG_y_train[0:10])"
      ]
    },
    {
      "cell_type": "code",
      "source": [
        "pickle.dump(EEG_X_train, open(\"/content/drive/MyDrive/Final_IED_Data/EEG_X_train.pickle\",'wb'))\n",
        "pickle.dump(EEG_X_val, open(\"/content/drive/MyDrive/Final_IED_Data/EEG_X_val.pickle\",'wb'))\n",
        "pickle.dump(EEG_X_test, open(\"/content/drive/MyDrive/Final_IED_Data/EEG_X_test.pickle\",'wb'))\n",
        "pickle.dump(EEG_y_train, open(\"/content/drive/MyDrive/Final_IED_Data/EEG_y_train.pickle\",'wb'))\n",
        "pickle.dump(EEG_y_val, open(\"/content/drive/MyDrive/Final_IED_Data/EEG_y_val.pickle\",'wb'))\n",
        "pickle.dump(EEG_y_test, open(\"/content/drive/MyDrive/Final_IED_Data/EEG_y_test.pickle\",'wb'))"
      ],
      "metadata": {
        "id": "Lv7GELCK_3mD"
      },
      "execution_count": null,
      "outputs": []
    },
    {
      "cell_type": "code",
      "execution_count": null,
      "metadata": {
        "id": "XZlkyPPEKPN2"
      },
      "outputs": [],
      "source": [
        "model = tf.keras.Sequential() #Create a sequential model\n",
        "\n",
        "#Convolutional layer #1\n",
        "#Padding set to same to preserve the spatial dimensions of the volume such that the output volume size matches the input volume size\n",
        "model.add(layers.Conv2D(16, (3, 3), padding=\"same\", input_shape=(256, 55, 1))) \n",
        "model.add(layers.BatchNormalization())\n",
        "model.add(layers.Activation(\"relu\"))\n",
        "model.add(layers.MaxPool2D(pool_size=(2,2))) #Max pooling used to reduce the spatial dimensions of the output volume.\n",
        "model.add(layers.Dropout(0.20)) #Prevents overfitting\n",
        "\n",
        "#Convolutional layer #2\n",
        "model.add(layers.Conv2D(32, (3, 3), padding=\"same\"))\n",
        "model.add(layers.BatchNormalization())\n",
        "model.add(layers.Activation(\"relu\"))\n",
        "model.add(layers.MaxPool2D(pool_size=(2,2))) #Max pooling used to reduce the spatial dimensions of the output volume.\n",
        "model.add(layers.Dropout(0.20)) #Prevents overfitting\n",
        "\n",
        "#Convolutional layer #3\n",
        "model.add(layers.Conv2D(64, (3, 3), padding=\"same\"))\n",
        "model.add(layers.BatchNormalization())\n",
        "model.add(layers.Activation(\"relu\"))\n",
        "model.add(layers.MaxPool2D(pool_size=(2,2))) #Max pooling used to reduce the spatial dimensions of the output volume.\n",
        "model.add(layers.Dropout(0.20)) #Prevents overfitting\n",
        "\n",
        "#Flatten the volume to pass through fully connected layer\n",
        "model.add(layers.Flatten())\n",
        "\n",
        "#Fully connected layer #1\n",
        "model.add(layers.Dense(100))\n",
        "model.add(layers.BatchNormalization())\n",
        "model.add(layers.Activation(\"relu\"))\n",
        "model.add(layers.Dropout(0.2)) #Prevents overfitting\n",
        "\n",
        "#Classification result\n",
        "model.add(layers.Dense(1, activation=\"sigmoid\")) #2 possible output: epileptiform, or non-epileptiform.\n",
        "\n",
        "#We will use the Adam optimizer, and compile our model\n",
        "optimizer = Adam(learning_rate=0.01, beta_1=0.9, beta_2=0.999, epsilon=1e-08) \n",
        "model.compile(optimizer=optimizer, loss=tf.keras.losses.BinaryCrossentropy(), metrics=[\"accuracy\", tf.keras.metrics.AUC(curve=\"ROC\", from_logits=True), tf.keras.metrics.AUC(curve=\"PR\", from_logits=True), tf.keras.metrics.Precision(), tf.keras.metrics.Recall()]) #Loss set to binary_crossentropy using Boston paper #Note to self: labels need to be in one-hot representation"
      ]
    },
    {
      "cell_type": "code",
      "execution_count": null,
      "metadata": {
        "id": "HHZTgexlKRav"
      },
      "outputs": [],
      "source": [
        "keras.backend.clear_session()"
      ]
    },
    {
      "cell_type": "code",
      "execution_count": null,
      "metadata": {
        "id": "3E7n6qfgKT4k"
      },
      "outputs": [],
      "source": [
        "epochs = 20\n",
        "\n",
        "checkpoint = ModelCheckpoint(\"model_weights.h5\", monitor=\"val_accuracy\", \n",
        "                            save_weights_only=True, mode=\"max\", verbose=1)\n",
        "\n",
        "reduce_lr = ReduceLROnPlateau(monitor=\"loss\", factor=0.1, patience=2, min_lr=0.00001, model=\"auto\") #learning rate scheduling, decreases learning rate by 0.1 if doesn't get better for 2 epochs\n",
        "\n",
        "callbacks = [checkpoint, reduce_lr]\n",
        "\n",
        "history = model.fit(\n",
        "    x = EEG_X_train,\n",
        "    y = EEG_y_train,\n",
        "    validation_data = (EEG_X_val, EEG_y_val),\n",
        "    epochs=epochs,\n",
        "    callbacks = callbacks\n",
        "    )"
      ]
    },
    {
      "cell_type": "code",
      "execution_count": null,
      "metadata": {
        "id": "EV8oopZzKtRj"
      },
      "outputs": [],
      "source": [
        "results = model.evaluate(EEG_X_test, EEG_y_test)"
      ]
    },
    {
      "cell_type": "code",
      "execution_count": null,
      "metadata": {
        "id": "LXJkyPCbjGAF"
      },
      "outputs": [],
      "source": [
        "# Save my model to my Google Drive\n",
        "model.save(\"/content/drive/My Drive/Final_EEG_Model\")"
      ]
    },
    {
      "cell_type": "code",
      "execution_count": null,
      "metadata": {
        "id": "ASZIiwOQnoiL"
      },
      "outputs": [],
      "source": [
        "reconstructed_model = keras.models.load_model(\"/content/drive/My Drive/Final_EEG_Model\")"
      ]
    },
    {
      "cell_type": "code",
      "source": [
        "EEG_X_train = pickle.load(open(\"/content/drive/MyDrive/Final_IED_Data/EEG_X_train.pickle\",'rb'))\n",
        "EEG_X_val = pickle.load(open(\"/content/drive/MyDrive/Final_IED_Data/EEG_X_val.pickle\",'rb'))\n",
        "EEG_X_test = pickle.load(open(\"/content/drive/MyDrive/Final_IED_Data/EEG_X_test.pickle\",'rb'))\n",
        "EEG_y_train = pickle.load(open(\"/content/drive/MyDrive/Final_IED_Data/EEG_y_train.pickle\",'rb'))\n",
        "EEG_y_val = pickle.load(open(\"/content/drive/MyDrive/Final_IED_Data/EEG_y_val.pickle\",'rb'))\n",
        "EEG_y_test = pickle.load(open(\"/content/drive/MyDrive/Final_IED_Data/EEG_y_test.pickle\",'rb'))"
      ],
      "metadata": {
        "id": "QUBhY8LFdhk4"
      },
      "execution_count": null,
      "outputs": []
    },
    {
      "cell_type": "code",
      "execution_count": null,
      "metadata": {
        "id": "xzuf4WAlo2ak"
      },
      "outputs": [],
      "source": [
        "# Model was saved successfully, same results obtained as above.\n",
        "\n",
        "reconstructed_results = reconstructed_model.evaluate(EEG_X_test, EEG_y_test)"
      ]
    },
    {
      "cell_type": "markdown",
      "metadata": {
        "id": "5xlSkqE3jLkU"
      },
      "source": [
        "## Part 6: Visualize the Model's Classication"
      ]
    },
    {
      "cell_type": "code",
      "execution_count": null,
      "metadata": {
        "id": "Bw_PpbV1LoYJ"
      },
      "outputs": [],
      "source": [
        "prediction_test = model.predict(EEG_X_test)\n",
        "prediction_test = (prediction_test > 0.5).astype(np.float32)\n",
        "prediction_test = prediction_test.flatten()"
      ]
    },
    {
      "cell_type": "code",
      "source": [
        "positive_indices = []\n",
        "negative_indices = []\n",
        "\n",
        "for i in range(0, len(prediction_test)):\n",
        "  if prediction_test[i] == 1:\n",
        "    positive_indices.append(i)\n",
        "  else:\n",
        "    negative_indices.append(i)"
      ],
      "metadata": {
        "id": "TALUM1DjMHbz"
      },
      "execution_count": null,
      "outputs": []
    },
    {
      "cell_type": "code",
      "source": [
        "predicted_test_positives = np.mean(EEG_X_test[positive_indices, :, :], axis=0)\n",
        "show_time_series(predicted_test_positives, \"Sample number\", \"Amplitude\")"
      ],
      "metadata": {
        "id": "S9m2-gx0MIBM"
      },
      "execution_count": null,
      "outputs": []
    },
    {
      "cell_type": "code",
      "source": [
        "predicted_test_negatives = np.mean(EEG_X_test[negative_indices, :, :], axis=0)\n",
        "show_time_series(predicted_test_negatives, \"Sample number\", \"Amplitude\")"
      ],
      "metadata": {
        "id": "1soGrkysMNC5"
      },
      "execution_count": null,
      "outputs": []
    },
    {
      "cell_type": "markdown",
      "metadata": {
        "id": "OW20eu3wkfnf"
      },
      "source": [
        "#### Stress testing the model on only the positive data in the test dataset"
      ]
    },
    {
      "cell_type": "code",
      "execution_count": null,
      "metadata": {
        "id": "bTLLpIAmlBLt"
      },
      "outputs": [],
      "source": [
        "ied_only_indices = []\n",
        "\n",
        "for i in range(0, len(EEG_y_test)):\n",
        "  if EEG_y_test[i] == 1:\n",
        "    ied_only_indices.append(i)"
      ]
    },
    {
      "cell_type": "code",
      "source": [
        "IED_only_prediction = model.predict(EEG_X_test[ied_only_indices,:,:])\n",
        "IED_only_prediction = (IED_only_prediction > 0.5).astype(np.float32)\n",
        "IED_only_prediction = IED_only_prediction.flatten()"
      ],
      "metadata": {
        "id": "78AYNHtMMgnQ"
      },
      "execution_count": null,
      "outputs": []
    },
    {
      "cell_type": "code",
      "source": [
        "collections.Counter(IED_only_prediction)"
      ],
      "metadata": {
        "id": "LucxfomsMgpX"
      },
      "execution_count": null,
      "outputs": []
    },
    {
      "cell_type": "markdown",
      "source": [
        "#### Stress testing the model on only the negative data in the test dataset"
      ],
      "metadata": {
        "id": "nE-XcwykMl-N"
      }
    },
    {
      "cell_type": "code",
      "source": [
        "neg_only_indices = []\n",
        "\n",
        "for i in range(0, len(EEG_y_test)):\n",
        "  if EEG_y_test[i] == 0:\n",
        "    neg_only_indices.append(i)"
      ],
      "metadata": {
        "id": "1FE0VdyqMkUv"
      },
      "execution_count": null,
      "outputs": []
    },
    {
      "cell_type": "code",
      "source": [
        "neg_only_prediction = model.predict(EEG_X_test[neg_only_indices,:,:])\n",
        "neg_only_prediction = (neg_only_prediction > 0.5).astype(np.float32)\n",
        "neg_only_prediction = neg_only_prediction.flatten()"
      ],
      "metadata": {
        "id": "Je2A1DcKMoad"
      },
      "execution_count": null,
      "outputs": []
    },
    {
      "cell_type": "code",
      "source": [
        "collections.Counter(neg_only_prediction)"
      ],
      "metadata": {
        "id": "Hdkbl39OMrdP"
      },
      "execution_count": null,
      "outputs": []
    }
  ],
  "metadata": {
    "accelerator": "GPU",
    "colab": {
      "collapsed_sections": [],
      "machine_shape": "hm",
      "name": "EEG_IED_Detector.ipynb",
      "provenance": [],
      "authorship_tag": "ABX9TyMegxeVi8LsvniPj/TUoKmX",
      "include_colab_link": true
    },
    "kernelspec": {
      "display_name": "Python 3",
      "name": "python3"
    },
    "language_info": {
      "name": "python"
    }
  },
  "nbformat": 4,
  "nbformat_minor": 0
}